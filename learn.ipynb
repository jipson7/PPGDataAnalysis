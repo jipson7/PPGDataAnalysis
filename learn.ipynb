{
 "cells": [
  {
   "cell_type": "code",
   "execution_count": 1,
   "metadata": {},
   "outputs": [],
   "source": [
    "%matplotlib inline\n",
    "\n",
    "from models import Trial\n",
    "from server import app\n",
    "import numpy as np\n",
    "import matplotlib.pyplot as plt"
   ]
  },
  {
   "cell_type": "markdown",
   "metadata": {},
   "source": [
    "# Setup\n",
    "## Select Trial"
   ]
  },
  {
   "cell_type": "code",
   "execution_count": 2,
   "metadata": {},
   "outputs": [
    {
     "name": "stdout",
     "output_type": "stream",
     "text": [
      "6 - caleb - Test - 2018-07-08 17:34:22.104928\n",
      "11 - caleb - initial trial with wrist device - 2018-07-16 17:47:20.754614\n",
      "12 - caleb - disconnected (not attached to user) - 2018-07-16 17:52:07.986990\n",
      "13 - caleb - device trial full - 2018-07-19 15:28:35.011461\n"
     ]
    }
   ],
   "source": [
    "# List Trial Ids\n",
    "with app.app_context():\n",
    "    trials = Trial.query.all()\n",
    "    for trial in trials:\n",
    "        print(trial)"
   ]
  },
  {
   "cell_type": "code",
   "execution_count": 3,
   "metadata": {},
   "outputs": [],
   "source": [
    "# Set a trial ID here and continue running\n",
    "# trial_id = int(input())\n",
    "trial_id = 13"
   ]
  },
  {
   "cell_type": "markdown",
   "metadata": {},
   "source": [
    "## Load Dataframes"
   ]
  },
  {
   "cell_type": "code",
   "execution_count": 4,
   "metadata": {},
   "outputs": [
    {
     "name": "stdout",
     "output_type": "stream",
     "text": [
      "Loading Trial: 13 - caleb - device trial full - 2018-07-19 15:28:35.011461\n",
      "\n",
      "df_wrist\n",
      "columns: ['red', 'ir', 'oxygen', 'hr', 'ratio', 'correlation', 'gyro_x', 'gyro_y', 'gyro_z', 'accel_x', 'accel_y', 'accel_z']\n",
      "shape  : (6354, 12)\n",
      "\n",
      "df_reflective\n",
      "columns: ['red', 'ir', 'oxygen', 'hr', 'ratio', 'correlation']\n",
      "shape  : (6341, 6)\n",
      "\n",
      "df_transitive\n",
      "columns: ['oxygen', 'hr']\n",
      "shape  : (12743, 2)\n"
     ]
    }
   ],
   "source": [
    "with app.app_context():\n",
    "    trial = Trial.query.get(trial_id)\n",
    "    print(\"Loading Trial: \" + str(trial))\n",
    "    df_wrist = trial.df_wrist\n",
    "    df_reflective = trial.df_reflective\n",
    "    df_transitive = trial.df_transitive\n",
    "print(\"\\ndf_wrist\")\n",
    "print(\"columns: \" + str(df_wrist.columns.tolist()))\n",
    "print(\"shape  : \" + str(df_wrist.shape))\n",
    "print(\"\\ndf_reflective\")\n",
    "print(\"columns: \" + str(df_reflective.columns.tolist()))\n",
    "print(\"shape  : \" + str(df_reflective.shape))\n",
    "print(\"\\ndf_transitive\")\n",
    "print(\"columns: \" + str(df_transitive.columns.tolist()))\n",
    "print(\"shape  : \" + str(df_transitive.shape))"
   ]
  },
  {
   "cell_type": "markdown",
   "metadata": {},
   "source": [
    "#### Device Types And Column Information\n",
    "* `df_wrist` - Wrist Worn Device (MAX30102 on Wrist with MPU9250 Motion Sensor)\n",
    "  * Instantaneous Data points\n",
    "    * `red` - red LED reflected radiance\n",
    "    * `ir` - infrared LED reflected radiance\n",
    "    * `gyro_x` - rotation in the x direction.\n",
    "    * `gyro_y` - rotation in the y direction.\n",
    "    * `gyro_z` - rotation in the z direction.\n",
    "    * `accel_x` - acceleration in the x direction.\n",
    "    * `accel_y` - acceleration in the y direction.\n",
    "    * `accel_z` - acceleration in the z direction.\n",
    "  * Calculated data based on last 100 `red` and `ir` LED points\n",
    "    * `oxygen` - oxygen saturation, or NaN if invalid\n",
    "    * `hr` - heart-rate, or NaN if invalid\n",
    "    * `ratio` - calculated SpO2 ratio\n",
    "    * `correlation` - calculated pearson correlation\n",
    "* `df_reflective` - Fingertip Reflective Sensor (MAX30102 on Fingertip)\n",
    "  * Instantaneous Data points\n",
    "    * `red` - red LED reflected radiance\n",
    "    * `ir` - infrared LED reflected radiance\n",
    "  * Calculated data based on last 100 `red` and `ir` LED points\n",
    "    * `oxygen` - oxygen saturation, or NaN if invalid\n",
    "    * `hr` - heart-rate, or NaN if invalid\n",
    "    * `ratio` - calculated SpO2 ratio\n",
    "    * `correlation` - calculated pearson correlation\n",
    "* `df_transitive` - Fingetip Transitive Sensor (Berry Medical Fingertip Device)\n",
    "  * `oxygen` - oxygen saturation, or NaN if invalid\n",
    "  * `hr` - heart-rate, or NaN if invalid"
   ]
  },
  {
   "cell_type": "markdown",
   "metadata": {},
   "source": [
    "# Experiments\n",
    "\n",
    "## 1. Predict df_transitive oxygen based on df_wrist led traces.\n",
    "\n",
    "### a. Align dataframes to common timestamps"
   ]
  },
  {
   "cell_type": "code",
   "execution_count": 5,
   "metadata": {},
   "outputs": [],
   "source": [
    "from data_analysis import normalize_timestamps\n",
    "df_wrist_norm, df_transitive_norm = normalize_timestamps(df_wrist, df_transitive)"
   ]
  },
  {
   "cell_type": "markdown",
   "metadata": {},
   "source": [
    "### b. Prepare Train and Test Data"
   ]
  },
  {
   "cell_type": "code",
   "execution_count": 6,
   "metadata": {},
   "outputs": [
    {
     "name": "stdout",
     "output_type": "stream",
     "text": [
      "Unique labels: {97, 98, 99}\n",
      "6337 data points.\n"
     ]
    }
   ],
   "source": [
    "train_ratio = 0.66\n",
    "\n",
    "X = df_wrist_norm[['red', 'ir']].values\n",
    "y = df_transitive_norm[['oxygen']].values\n",
    "\n",
    "data_count = X.shape[0]\n",
    "\n",
    "y = y.reshape((data_count,))\n",
    "\n",
    "print(\"Unique labels: {}\".format(set(y)))\n",
    "\n",
    "print(str(data_count) + \" data points.\")\n",
    "\n",
    "train_size = int(data_count * train_ratio)\n",
    "\n",
    "# Split data before windowizing\n",
    "X_train = X[:train_size]\n",
    "y_train = y[:train_size]\n",
    "X_test = X[train_size:]\n",
    "y_test = y[:train_size]\n",
    "\n",
    "# Windowize data and corresponding label\n",
    "from data_analysis import windowize_data\n",
    "X_train, y_train = windowize_data(X_train, y_train)\n",
    "X_test, y_test = windowize_data(X_test, y_test)"
   ]
  },
  {
   "cell_type": "markdown",
   "metadata": {},
   "source": [
    "### c. Run Random Forest"
   ]
  },
  {
   "cell_type": "code",
   "execution_count": 7,
   "metadata": {},
   "outputs": [],
   "source": [
    "from sklearn.ensemble import RandomForestClassifier\n",
    "from sklearn.model_selection import GridSearchCV\n",
    "clf = RandomForestClassifier()\n",
    "clf.fit(X_train, y_train)\n",
    "y_predicted = clf.predict(X_test)"
   ]
  },
  {
   "cell_type": "code",
   "execution_count": 8,
   "metadata": {},
   "outputs": [
    {
     "name": "stdout",
     "output_type": "stream",
     "text": [
      "Accuracy: 0.38278210116731515\n"
     ]
    },
    {
     "data": {
      "image/png": "[encoded data removed]",
      "text/plain": [
       "<Figure size 432x288 with 2 Axes>"
      ]
     },
     "metadata": {},
     "output_type": "display_data"
    }
   ],
   "source": [
    "from sklearn.metrics import accuracy_score, confusion_matrix\n",
    "from data_analysis import plot_confusion_matrix\n",
    "accuracy = accuracy_score(y_test, y_predicted)\n",
    "print(\"Accuracy: {}\".format(accuracy))\n",
    "\n",
    "plot_confusion_matrix(y_test, y_predicted)\n",
    "plt.show()"
   ]
  },
  {
   "cell_type": "code",
   "execution_count": null,
   "metadata": {},
   "outputs": [],
   "source": []
  }
 ],
 "metadata": {
  "kernelspec": {
   "display_name": "Python 3",
   "language": "python",
   "name": "python3"
  },
  "language_info": {
   "codemirror_mode": {
    "name": "ipython",
    "version": 3
   },
   "file_extension": ".py",
   "mimetype": "text/x-python",
   "name": "python",
   "nbconvert_exporter": "python",
   "pygments_lexer": "ipython3",
   "version": "3.6.6"
  }
 },
 "nbformat": 4,
 "nbformat_minor": 1
}

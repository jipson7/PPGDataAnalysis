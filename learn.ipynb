{
 "cells": [
  {
   "cell_type": "code",
   "execution_count": 1,
   "metadata": {},
   "outputs": [],
   "source": [
    "from models import Trial, Data\n",
    "from server import app"
   ]
  },
  {
   "cell_type": "markdown",
   "metadata": {},
   "source": [
    "## Select Trial"
   ]
  },
  {
   "cell_type": "code",
   "execution_count": 2,
   "metadata": {},
   "outputs": [
    {
     "name": "stdout",
     "output_type": "stream",
     "text": [
      "6 - caleb - Test - 2018-07-08 17:34:22.104928\n",
      "11 - caleb - initial trial with wrist device - 2018-07-16 17:47:20.754614\n",
      "12 - caleb - disconnected (not attached to user) - 2018-07-16 17:52:07.986990\n"
     ]
    }
   ],
   "source": [
    "# List Trial Ids\n",
    "with app.app_context():\n",
    "    trials = Trial.query.all()\n",
    "    for trial in trials:\n",
    "        print(trial)"
   ]
  },
  {
   "cell_type": "code",
   "execution_count": 3,
   "metadata": {},
   "outputs": [],
   "source": [
    "# Set a trial ID here and continue running\n",
    "# trial_id = int(input())\n",
    "trial_id = 6"
   ]
  },
  {
   "cell_type": "markdown",
   "metadata": {},
   "source": [
    "## Load Dataframes\n",
    "\n",
    "#### Device Types\n",
    "* `df_wrist` - Wrist Worn Device (MAX30102 on Wrist with MPU9250 Motion Sensor)\n",
    "* `df_reflective` - Fingertip Reflective Sensor (MAX30102 on Fingertip)\n",
    "* `df_transitive` - Fingetip Transitive Sensor (Berry Medical Fingertip Device)"
   ]
  },
  {
   "cell_type": "code",
   "execution_count": 4,
   "metadata": {},
   "outputs": [
    {
     "name": "stdout",
     "output_type": "stream",
     "text": [
      "Loading Trial: 6 - caleb - Test - 2018-07-08 17:34:22.104928\n",
      "Dataframes Loaded\n"
     ]
    }
   ],
   "source": [
    "with app.app_context():\n",
    "    trial = Trial.query.get(trial_id)\n",
    "    print(\"Loading Trial: \" + str(trial))\n",
    "    df_wrist = trial.df_wrist\n",
    "    df_reflective = trial.df_reflective\n",
    "    df_transitive = trial.df_transitive\n",
    "print(\"Dataframes Loaded\")"
   ]
  },
  {
   "cell_type": "code",
   "execution_count": 5,
   "metadata": {},
   "outputs": [
    {
     "name": "stdout",
     "output_type": "stream",
     "text": [
      "                         oxygen  hr\n",
      "2018-07-08 17:34:20.094      63   6\n",
      "2018-07-08 17:34:20.103      98  60\n",
      "2018-07-08 17:34:20.123      98  60\n",
      "2018-07-08 17:34:20.145      98  60\n",
      "2018-07-08 17:34:20.165      98  60\n",
      "2018-07-08 17:34:20.184      98  60\n",
      "2018-07-08 17:34:20.204      98  60\n",
      "2018-07-08 17:34:20.223      98  60\n",
      "2018-07-08 17:34:20.244      98  60\n",
      "2018-07-08 17:34:20.265      98  60\n",
      "2018-07-08 17:34:20.274      98  60\n",
      "2018-07-08 17:34:20.294      98  60\n",
      "2018-07-08 17:34:20.314      98  60\n",
      "2018-07-08 17:34:20.334      98  60\n",
      "2018-07-08 17:34:20.354      98  60\n",
      "2018-07-08 17:34:20.374      98  60\n",
      "2018-07-08 17:34:20.393      98  60\n",
      "2018-07-08 17:34:20.414      98  60\n",
      "2018-07-08 17:34:20.434      98  60\n",
      "2018-07-08 17:34:20.454      98  60\n",
      "2018-07-08 17:34:20.473      98  60\n",
      "2018-07-08 17:34:20.494      98  60\n",
      "2018-07-08 17:34:20.513      98  58\n",
      "2018-07-08 17:34:20.533      98  58\n",
      "2018-07-08 17:34:20.554      98  58\n",
      "2018-07-08 17:34:20.574      98  58\n",
      "2018-07-08 17:34:20.593      98  58\n",
      "2018-07-08 17:34:20.614      98  58\n",
      "2018-07-08 17:34:20.634      98  58\n",
      "2018-07-08 17:34:20.654      98  58\n",
      "...                         ...  ..\n",
      "2018-07-08 17:36:24.353      97  65\n",
      "2018-07-08 17:36:24.373      97  65\n",
      "2018-07-08 17:36:24.393      97  65\n",
      "2018-07-08 17:36:24.413      97  65\n",
      "2018-07-08 17:36:24.433      97  65\n",
      "2018-07-08 17:36:24.453      97  65\n",
      "2018-07-08 17:36:24.473      97  65\n",
      "2018-07-08 17:36:24.493      97  65\n",
      "2018-07-08 17:36:24.513      97  64\n",
      "2018-07-08 17:36:24.533      97  64\n",
      "2018-07-08 17:36:24.553      97  64\n",
      "2018-07-08 17:36:24.573      97  64\n",
      "2018-07-08 17:36:24.593      97  64\n",
      "2018-07-08 17:36:24.613      97  64\n",
      "2018-07-08 17:36:24.633      97  64\n",
      "2018-07-08 17:36:24.654      97  64\n",
      "2018-07-08 17:36:24.673      97  64\n",
      "2018-07-08 17:36:24.693      97  64\n",
      "2018-07-08 17:36:24.713      97  64\n",
      "2018-07-08 17:36:24.733      97  64\n",
      "2018-07-08 17:36:24.754      97  64\n",
      "2018-07-08 17:36:24.773      97  64\n",
      "2018-07-08 17:36:24.793      97  64\n",
      "2018-07-08 17:36:24.813      97  64\n",
      "2018-07-08 17:36:24.833      97  64\n",
      "2018-07-08 17:36:24.853      97  64\n",
      "2018-07-08 17:36:24.875      97  64\n",
      "2018-07-08 17:36:24.893      97  64\n",
      "2018-07-08 17:36:24.914      97  64\n",
      "2018-07-08 17:36:24.933      97  64\n",
      "\n",
      "[6272 rows x 2 columns]\n"
     ]
    }
   ],
   "source": [
    "print(df_transitive)"
   ]
  },
  {
   "cell_type": "code",
   "execution_count": null,
   "metadata": {},
   "outputs": [],
   "source": []
  }
 ],
 "metadata": {
  "kernelspec": {
   "display_name": "Python 3",
   "language": "python",
   "name": "python3"
  },
  "language_info": {
   "codemirror_mode": {
    "name": "ipython",
    "version": 3
   },
   "file_extension": ".py",
   "mimetype": "text/x-python",
   "name": "python",
   "nbconvert_exporter": "python",
   "pygments_lexer": "ipython3",
   "version": "3.6.6"
  }
 },
 "nbformat": 4,
 "nbformat_minor": 1
}

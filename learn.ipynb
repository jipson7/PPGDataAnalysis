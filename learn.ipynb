{
 "cells": [
  {
   "cell_type": "code",
   "execution_count": 1,
   "metadata": {},
   "outputs": [],
   "source": [
    "%matplotlib inline\n",
    "\n",
    "from models import Trial\n",
    "from server import app\n",
    "import numpy as np\n",
    "import matplotlib.pyplot as plt\n",
    "import data_analysis as da"
   ]
  },
  {
   "cell_type": "markdown",
   "metadata": {},
   "source": [
    "# Setup\n",
    "## Select Trial"
   ]
  },
  {
   "cell_type": "code",
   "execution_count": 2,
   "metadata": {},
   "outputs": [
    {
     "name": "stdout",
     "output_type": "stream",
     "text": [
      "6 - caleb - Test - 2018-07-08 17:34:22.104928\n11 - caleb - initial trial with wrist device - 2018-07-16 17:47:20.754614\n12 - caleb - disconnected (not attached to user) - 2018-07-16 17:52:07.986990\n13 - caleb - device trial full - 2018-07-19 15:28:35.011461\n"
     ]
    }
   ],
   "source": [
    "# List Trial Ids\n",
    "with app.app_context():\n",
    "    trials = Trial.query.all()\n",
    "    for trial in trials:\n",
    "        print(trial)"
   ]
  },
  {
   "cell_type": "code",
   "execution_count": 3,
   "metadata": {},
   "outputs": [],
   "source": [
    "# Set a trial ID here and continue running\n",
    "# trial_id = int(input())\n",
    "trial_id = 13"
   ]
  },
  {
   "cell_type": "markdown",
   "metadata": {},
   "source": [
    "## Load Dataframes"
   ]
  },
  {
   "cell_type": "code",
   "execution_count": 4,
   "metadata": {},
   "outputs": [
    {
     "name": "stdout",
     "output_type": "stream",
     "text": [
      "Loading Trial: 13 - caleb - device trial full - 2018-07-19 15:28:35.011461\n"
     ]
    }
   ],
   "source": [
    "with app.app_context():\n",
    "    trial = Trial.query.get(trial_id)\n",
    "    print(\"Loading Trial: \" + str(trial))\n",
    "    df_wrist = trial.df_wrist\n",
    "    df_reflective = trial.df_reflective\n",
    "    df_transitive = trial.df_transitive\n",
    "print(\"\\ndf_wrist\")\n",
    "print(\"columns: \" + str(df_wrist.columns.tolist()))\n",
    "print(\"shape  : \" + str(df_wrist.shape))\n",
    "print(\"\\ndf_reflective\")\n",
    "print(\"columns: \" + str(df_reflective.columns.tolist()))\n",
    "print(\"shape  : \" + str(df_reflective.shape))\n",
    "print(\"\\ndf_transitive\")\n",
    "print(\"columns: \" + str(df_transitive.columns.tolist()))\n",
    "print(\"shape  : \" + str(df_transitive.shape))"
   ]
  },
  {
   "cell_type": "markdown",
   "metadata": {},
   "source": [
    "#### Device Types And Column Information\n",
    "* `df_wrist` - Wrist Worn Device (MAX30102 on Wrist with MPU9250 Motion Sensor)\n",
    "  * Instantaneous Data points\n",
    "    * `red` - red LED reflected radiance\n",
    "    * `ir` - infrared LED reflected radiance\n",
    "    * `gyro_x` - rotation in the x direction.\n",
    "    * `gyro_y` - rotation in the y direction.\n",
    "    * `gyro_z` - rotation in the z direction.\n",
    "    * `accel_x` - acceleration in the x direction.\n",
    "    * `accel_y` - acceleration in the y direction.\n",
    "    * `accel_z` - acceleration in the z direction.\n",
    "  * Calculated data based on last 100 `red` and `ir` LED points\n",
    "    * `oxygen` - oxygen saturation, or NaN if invalid\n",
    "    * `hr` - heart-rate, or NaN if invalid\n",
    "    * `ratio` - calculated SpO2 ratio\n",
    "    * `correlation` - calculated pearson correlation\n",
    "* `df_reflective` - Fingertip Reflective Sensor (MAX30102 on Fingertip)\n",
    "  * Instantaneous Data points\n",
    "    * `red` - red LED reflected radiance\n",
    "    * `ir` - infrared LED reflected radiance\n",
    "  * Calculated data based on last 100 `red` and `ir` LED points\n",
    "    * `oxygen` - oxygen saturation, or NaN if invalid\n",
    "    * `hr` - heart-rate, or NaN if invalid\n",
    "    * `ratio` - calculated SpO2 ratio\n",
    "    * `correlation` - calculated pearson correlation\n",
    "* `df_transitive` - Fingetip Transitive Sensor (Berry Medical Fingertip Device)\n",
    "  * `oxygen` - oxygen saturation, or NaN if invalid\n",
    "  * `hr` - heart-rate, or NaN if invalid"
   ]
  },
  {
   "cell_type": "markdown",
   "metadata": {},
   "source": [
    "# Experiments\n",
    "\n",
    "## 1. Predict df_transitive oxygen based on df_wrist led traces.\n",
    "\n",
    "### a. Align dataframes to common timestamps"
   ]
  },
  {
   "cell_type": "code",
   "execution_count": 5,
   "metadata": {},
   "outputs": [],
   "source": [
    "from data_analysis import normalize_timestamps\n",
    "df_wrist_norm, df_transitive_norm = normalize_timestamps(df_wrist, df_transitive)"
   ]
  },
  {
   "cell_type": "markdown",
   "metadata": {},
   "source": [
    "### b. Prepare Train and Test Data"
   ]
  },
  {
   "cell_type": "code",
   "execution_count": 6,
   "metadata": {},
   "outputs": [
    {
     "name": "stdout",
     "output_type": "stream",
     "text": [
      "Label: 98, Count: 4987\nLabel: 97, Count: 500\nLabel: 99, Count: 850\n"
     ]
    }
   ],
   "source": [
    "X = df_wrist_norm[['red', 'ir']].values\n",
    "y = df_transitive_norm[['oxygen']].values\n",
    "\n",
    "y = y.reshape((X.shape[0],))\n",
    "da.print_label_counts(y)\n",
    "\n",
    "X_train, y_train, X_test, y_test = da.split_training_data(X, y)\n",
    "\n",
    "X_train, y_train = da.windowize_data(X_train, y_train)\n",
    "X_test, y_test = da.windowize_data(X_test, y_test)"
   ]
  },
  {
   "cell_type": "markdown",
   "metadata": {},
   "source": [
    "### c. Run Random Forest"
   ]
  },
  {
   "cell_type": "code",
   "execution_count": 7,
   "metadata": {},
   "outputs": [
    {
     "name": "stdout",
     "output_type": "stream",
     "text": [
      "Accuracy: 0.3857003891050584\n"
     ]
    },
    {
     "data": {
      "image/png": "[encoded data removed]",
      "text/plain": [
       "<Figure size 432x288 with 2 Axes>"
      ]
     },
     "metadata": {},
     "output_type": "display_data"
    }
   ],
   "source": [
    "from sklearn.ensemble import RandomForestClassifier\n",
    "clf = RandomForestClassifier()\n",
    "clf.fit(X_train, y_train)\n",
    "y_predicted = clf.predict(X_test)\n",
    "da.analyze_results(y_test, y_predicted)"
   ]
  },
  {
   "cell_type": "markdown",
   "metadata": {},
   "source": [
    "## 2. Predict Reliability based on LED and motion traces\n",
    "\n",
    "### a. Setup classification data"
   ]
  },
  {
   "cell_type": "code",
   "execution_count": 10,
   "metadata": {},
   "outputs": [
    {
     "name": "stdout",
     "output_type": "stream",
     "text": [
      "Label: False, Count: 4675\nLabel: True, Count: 1679\n"
     ]
    }
   ],
   "source": [
    "# Wrist dataframe columns to be used\n",
    "input_columns = ['red', 'ir', 'gyro_x', 'gyro_y', 'gyro_z', 'accel_x', 'accel_y', 'accel_z']\n",
    "\n",
    "X = df_wrist[input_columns]\n",
    "y = df_wrist[['oxygen']].values\n",
    "\n",
    "y = y.reshape(y.shape[0],)\n",
    "\n",
    "y = np.invert(np.isnan(y))\n",
    "\n",
    "\n",
    "da.print_label_counts(y)\n",
    "\n",
    "X_train, y_train, X_test, y_test = da.split_training_data(X, y)\n",
    "\n",
    "X_train, y_train = da.windowize_data(X_train, y_train)\n",
    "X_test, y_test = da.windowize_data(X_test, y_test)"
   ]
  },
  {
   "cell_type": "markdown",
   "metadata": {},
   "source": [
    "### b. Create Neural Net"
   ]
  },
  {
   "cell_type": "code",
   "execution_count": 12,
   "metadata": {},
   "outputs": [],
   "source": [
    "from keras.models import Sequential\n",
    "from keras.layers import Dense\n",
    "from keras.layers import LSTM\n",
    "from keras.layers.embeddings import Embedding\n",
    "from keras.preprocessing import sequence\n",
    "\n"
   ]
  },
  {
   "cell_type": "markdown",
   "metadata": {},
   "source": [
    "## 3. Predict Reliability by matching algorithmic output to fingertip data"
   ]
  },
  {
   "cell_type": "code",
   "execution_count": null,
   "metadata": {},
   "outputs": [],
   "source": []
  }
 ],
 "metadata": {
  "kernelspec": {
   "display_name": "Python 3",
   "language": "python",
   "name": "python3"
  },
  "language_info": {
   "codemirror_mode": {
    "name": "ipython",
    "version": 3
   },
   "file_extension": ".py",
   "mimetype": "text/x-python",
   "name": "python",
   "nbconvert_exporter": "python",
   "pygments_lexer": "ipython3",
   "version": "3.6.6"
  }
 },
 "nbformat": 4,
 "nbformat_minor": 1
}
